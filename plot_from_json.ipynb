{
 "cells": [
  {
   "cell_type": "code",
   "execution_count": 1,
   "metadata": {},
   "outputs": [],
   "source": [
    "import numpy as np\n",
    "import matplotlib.pyplot as plt\n",
    "%load_ext autoreload\n",
    "%autoreload 2"
   ]
  },
  {
   "cell_type": "code",
   "execution_count": 2,
   "metadata": {},
   "outputs": [],
   "source": [
    "from data_helper import *"
   ]
  },
  {
   "cell_type": "code",
   "execution_count": null,
   "metadata": {},
   "outputs": [],
   "source": [
    "import json\n",
    "\n",
    "def save2json(hs, bs, lr, reg, num_epoch, val_acc, W1, stats):\n",
    "    data = {\n",
    "        \"hs\": hs,\n",
    "        \"bs\": bs,\n",
    "        \"lr\": lr,\n",
    "        \"reg\": reg,\n",
    "        \"val_acc\": val_acc,\n",
    "        \"num_epoch\": num_epoch,\n",
    "        \"train_acc_history\": float_list2int(stats[\"train_acc_history\"]),\n",
    "        \"val_acc_history\": float_list2int(stats[\"val_acc_history\"]),\n",
    "        \n",
    "        \"W1\": gradient2Image(W1),\n",
    "        \"loss_history\": float_list2int(stats[\"loss_history\"]),\n",
    "    }\n",
    "    if json_exist(hs, bs, lr, reg, num_epoch):\n",
    "        return\n",
    "    with open(f'json/{hs}-{bs}-{lr}-{reg}-{num_epoch}.json', 'w') as f:\n",
    "#         json.dump(data, f, indent=1)\n",
    "        json.dump(data, f,separators=(',', ':'))\n",
    "\n",
    "hs, bs, lr, reg, num_epoch, val_acc, W1, stats = get_pickle(3, 10, 0.001, 0, 8)\n",
    "\n",
    "save2json(hs, bs, lr, reg, num_epoch, val_acc, W1, stats)\n"
   ]
  }
 ],
 "metadata": {
  "kernelspec": {
   "display_name": "Python 3",
   "language": "python",
   "name": "python3"
  },
  "language_info": {
   "codemirror_mode": {
    "name": "ipython",
    "version": 3
   },
   "file_extension": ".py",
   "mimetype": "text/x-python",
   "name": "python",
   "nbconvert_exporter": "python",
   "pygments_lexer": "ipython3",
   "version": "3.6.5"
  }
 },
 "nbformat": 4,
 "nbformat_minor": 4
}
