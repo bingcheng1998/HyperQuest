{
 "cells": [
  {
   "cell_type": "code",
   "execution_count": 8,
   "metadata": {},
   "outputs": [
    {
     "name": "stdout",
     "output_type": "stream",
     "text": [
      "The autoreload extension is already loaded. To reload it, use:\n",
      "  %reload_ext autoreload\n"
     ]
    }
   ],
   "source": [
    "import numpy as np\n",
    "import matplotlib.pyplot as plt\n",
    "%load_ext autoreload\n",
    "%autoreload 2"
   ]
  },
  {
   "cell_type": "code",
   "execution_count": 9,
   "metadata": {},
   "outputs": [],
   "source": [
    "from data_helper import *"
   ]
  },
  {
   "cell_type": "code",
   "execution_count": 6,
   "metadata": {},
   "outputs": [],
   "source": [
    "hidden_size = [3, 5, 10, 50, 150]\n",
    "# batch_size = [10, 50, 100, 200, 300, 400]\n",
    "batch_size = [10, 50, 100, 200, 400]\n",
    "# learning_rate = [4.5e-3, 4e-3, 3.5e-3, 3e-3, 2e-3, 1e-3, 5e-4, 1e-4]\n",
    "learning_rate = [4e-3, 3e-3, 1e-3, 5e-4, 1e-4]\n",
    "# regularization = [0, 0.1, 0.5, 1, 3, 5, 10]\n",
    "regularization = [0, 0.1, 0.5, 1, 10]\n",
    "num_epoch = 8\n",
    "\n",
    "dtype = np.half\n",
    "for lr in learning_rate:\n",
    "    for bs in batch_size:\n",
    "        for hs in hidden_size:\n",
    "            for reg in regularization:\n",
    "                if pickle_exist(hs, bs, lr, reg, num_epoch):\n",
    "                    hs, bs, lr, reg, num_epoch, val_acc, W1, stats = get_pickle(hs, bs, lr, reg, num_epoch)\n",
    "#                     print(f'For hs={hs}, bs={bs}, lr={lr}, reg={reg}, val_acc = {val_acc}')\n",
    "#                     showTraining(stats)\n",
    "#                     show_net_weights(W1)\n",
    "                else:\n",
    "                    print(f'For hs={hs}, bs={bs}, lr={lr}, reg={reg}, there is no data')"
   ]
  },
  {
   "cell_type": "code",
   "execution_count": 23,
   "metadata": {},
   "outputs": [
    {
     "name": "stdout",
     "output_type": "stream",
     "text": [
      "For hs=3, bs=100, lr=0.004, reg=0, val_acc = 0.075\n"
     ]
    },
    {
     "data": {
      "image/png": "[encoded data removed]",
      "text/plain": [
       "<Figure size 432x288 with 2 Axes>"
      ]
     },
     "metadata": {
      "needs_background": "light"
     },
     "output_type": "display_data"
    },
    {
     "name": "stderr",
     "output_type": "stream",
     "text": [
      "/Users/bingcheng/Documents/projects/2020 projects/机器学习/CS231n - 斯坦福/HyperQuest/cs231n/vis_utils.py:29: RuntimeWarning: invalid value encountered in subtract\n",
      "  grid[y0:y1, x0:x1] = ubound * (img - low) / (high - low)\n",
      "/Users/bingcheng/Documents/projects/2020 projects/机器学习/CS231n - 斯坦福/HyperQuest/cs231n/vis_utils.py:29: RuntimeWarning: invalid value encountered in true_divide\n",
      "  grid[y0:y1, x0:x1] = ubound * (img - low) / (high - low)\n"
     ]
    },
    {
     "data": {
      "image/png": "[encoded data removed]",
      "text/plain": [
       "<Figure size 432x288 with 1 Axes>"
      ]
     },
     "metadata": {
      "needs_background": "light"
     },
     "output_type": "display_data"
    },
    {
     "data": {
      "text/plain": [
       "array([[[0, 0, 0],\n",
       "        [0, 0, 0],\n",
       "        [0, 0, 0],\n",
       "        ...,\n",
       "        [0, 0, 0],\n",
       "        [0, 0, 0],\n",
       "        [0, 0, 0]],\n",
       "\n",
       "       [[0, 0, 0],\n",
       "        [0, 0, 0],\n",
       "        [0, 0, 0],\n",
       "        ...,\n",
       "        [0, 0, 0],\n",
       "        [0, 0, 0],\n",
       "        [0, 0, 0]],\n",
       "\n",
       "       [[0, 0, 0],\n",
       "        [0, 0, 0],\n",
       "        [0, 0, 0],\n",
       "        ...,\n",
       "        [0, 0, 0],\n",
       "        [0, 0, 0],\n",
       "        [0, 0, 0]],\n",
       "\n",
       "       ...,\n",
       "\n",
       "       [[0, 0, 0],\n",
       "        [0, 0, 0],\n",
       "        [0, 0, 0],\n",
       "        ...,\n",
       "        [0, 0, 0],\n",
       "        [0, 0, 0],\n",
       "        [0, 0, 0]],\n",
       "\n",
       "       [[0, 0, 0],\n",
       "        [0, 0, 0],\n",
       "        [0, 0, 0],\n",
       "        ...,\n",
       "        [0, 0, 0],\n",
       "        [0, 0, 0],\n",
       "        [0, 0, 0]],\n",
       "\n",
       "       [[0, 0, 0],\n",
       "        [0, 0, 0],\n",
       "        [0, 0, 0],\n",
       "        ...,\n",
       "        [0, 0, 0],\n",
       "        [0, 0, 0],\n",
       "        [0, 0, 0]]], dtype=uint8)"
      ]
     },
     "execution_count": 23,
     "metadata": {},
     "output_type": "execute_result"
    }
   ],
   "source": [
    "import random\n",
    "\n",
    "hs = random.choice(hidden_size)\n",
    "bs = random.choice(batch_size)\n",
    "lr = random.choice(learning_rate)\n",
    "reg = random.choice(regularization)\n",
    "hs, bs, lr, reg, _ = 3, 100, 0.004, 0, 8\n",
    "hs, bs, lr, reg, num_epoch, val_acc, W1, stats = get_pickle(hs, bs, lr, reg, num_epoch)\n",
    "print(f'For hs={hs}, bs={bs}, lr={lr}, reg={reg}, val_acc = {val_acc}')\n",
    "showTraining(stats)\n",
    "show_net_weights(W1)"
   ]
  },
  {
   "cell_type": "code",
   "execution_count": 10,
   "metadata": {},
   "outputs": [
    {
     "data": {
      "text/plain": [
       "(3072, 50)"
      ]
     },
     "execution_count": 10,
     "metadata": {},
     "output_type": "execute_result"
    }
   ],
   "source": [
    "W1.shape"
   ]
  },
  {
   "cell_type": "code",
   "execution_count": null,
   "metadata": {},
   "outputs": [],
   "source": []
  }
 ],
 "metadata": {
  "kernelspec": {
   "display_name": "Python 3",
   "language": "python",
   "name": "python3"
  },
  "language_info": {
   "codemirror_mode": {
    "name": "ipython",
    "version": 3
   },
   "file_extension": ".py",
   "mimetype": "text/x-python",
   "name": "python",
   "nbconvert_exporter": "python",
   "pygments_lexer": "ipython3",
   "version": "3.6.5"
  }
 },
 "nbformat": 4,
 "nbformat_minor": 4
}
