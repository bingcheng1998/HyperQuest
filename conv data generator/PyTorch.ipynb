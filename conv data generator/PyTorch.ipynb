{
 "cells": [
  {
   "cell_type": "markdown",
   "metadata": {},
   "source": [
    "# Part I. Preparation\n",
    "\n",
    "First, we load the CIFAR-10 dataset. This might take a couple minutes the first time you do it, but the files should stay cached after that.\n",
    "\n",
    "In previous parts of the assignment we had to write our own code to download the CIFAR-10 dataset, preprocess it, and iterate through it in minibatches; PyTorch provides convenient tools to automate this process for us."
   ]
  },
  {
   "cell_type": "code",
   "execution_count": 1,
   "metadata": {
    "tags": [
     "pdf-ignore"
    ]
   },
   "outputs": [
    {
     "name": "stdout",
     "output_type": "stream",
     "text": [
      "Your Pytorch version is 1.6.0\n"
     ]
    }
   ],
   "source": [
    "import torch\n",
    "print(f'Your Pytorch version is {torch.__version__}')\n",
    "assert '.'.join(torch.__version__.split('.')[:2]) in ['1.4','1.5','1.6']\n",
    "import torch.nn as nn\n",
    "import torch.optim as optim\n",
    "from torch.utils.data import DataLoader\n",
    "from torch.utils.data import sampler\n",
    "\n",
    "import torchvision.datasets as dset\n",
    "import torchvision.transforms as T\n",
    "\n",
    "import matplotlib.pyplot as plt\n",
    "%matplotlib inline\n",
    "plt.rcParams['figure.figsize'] = (10.0, 8.0) # set default size of plots\n",
    "plt.rcParams['image.interpolation'] = 'nearest'\n",
    "plt.rcParams['image.cmap'] = 'gray'\n",
    "\n",
    "import numpy as np"
   ]
  },
  {
   "cell_type": "code",
   "execution_count": 2,
   "metadata": {
    "tags": [
     "pdf-ignore"
    ]
   },
   "outputs": [
    {
     "name": "stdout",
     "output_type": "stream",
     "text": [
      "Files already downloaded and verified\n",
      "Files already downloaded and verified\n",
      "Files already downloaded and verified\n"
     ]
    }
   ],
   "source": [
    "NUM_TRAIN = 49000\n",
    "\n",
    "# The torchvision.transforms package provides tools for preprocessing data\n",
    "# and for performing data augmentation; here we set up a transform to\n",
    "# preprocess the data by subtracting the mean RGB value and dividing by the\n",
    "# standard deviation of each RGB value; we've hardcoded the mean and std.\n",
    "transform = T.Compose([\n",
    "                T.ToTensor(),\n",
    "                T.Normalize((0.4914, 0.4822, 0.4465), (0.2023, 0.1994, 0.2010))\n",
    "            ])\n",
    "\n",
    "# We set up a Dataset object for each split (train / val / test); Datasets load\n",
    "# training examples one at a time, so we wrap each Dataset in a DataLoader which\n",
    "# iterates through the Dataset and forms minibatches. We divide the CIFAR-10\n",
    "# training set into train and val sets by passing a Sampler object to the\n",
    "# DataLoader telling how it should sample from the underlying Dataset.\n",
    "cifar10_train = dset.CIFAR10('./cs231n/datasets', train=True, download=True,\n",
    "                             transform=transform)\n",
    "loader_train = DataLoader(cifar10_train, batch_size=64, \n",
    "                          sampler=sampler.SubsetRandomSampler(range(NUM_TRAIN)))\n",
    "\n",
    "cifar10_val = dset.CIFAR10('./cs231n/datasets', train=True, download=True,\n",
    "                           transform=transform)\n",
    "loader_val = DataLoader(cifar10_val, batch_size=64, \n",
    "                        sampler=sampler.SubsetRandomSampler(range(NUM_TRAIN, 50000)))\n",
    "\n",
    "cifar10_test = dset.CIFAR10('./cs231n/datasets', train=False, download=True, \n",
    "                            transform=transform)\n",
    "loader_test = DataLoader(cifar10_test, batch_size=64)"
   ]
  },
  {
   "cell_type": "markdown",
   "metadata": {
    "tags": [
     "pdf-ignore"
    ]
   },
   "source": [
    "You have an option to **use GPU by setting the flag to True below**. It is not necessary to use GPU for this assignment. Note that if your computer does not have CUDA enabled, `torch.cuda.is_available()` will return False and this notebook will fallback to CPU mode.\n",
    "\n",
    "The global variables `dtype` and `device` will control the data types throughout this assignment.\n",
    "\n",
    "## Colab Users\n",
    "\n",
    "If you are using Colab, you need to manually switch to a GPU device. You can do this by clicking `Runtime -> Change runtime type` and selecting `GPU` under `Hardware Accelerator`. Note that you have to rerun the cells from the top since the kernel gets restarted upon switching runtimes."
   ]
  },
  {
   "cell_type": "code",
   "execution_count": 3,
   "metadata": {
    "tags": [
     "pdf-ignore-input"
    ]
   },
   "outputs": [
    {
     "name": "stdout",
     "output_type": "stream",
     "text": [
      "using device: cuda\n"
     ]
    }
   ],
   "source": [
    "USE_GPU = True\n",
    "\n",
    "dtype = torch.float32 # we will be using float throughout this tutorial\n",
    "\n",
    "if USE_GPU and torch.cuda.is_available():\n",
    "    device = torch.device('cuda')\n",
    "else:\n",
    "    device = torch.device('cpu')\n",
    "\n",
    "# Constant to control how frequently we print train loss\n",
    "print_every = 100\n",
    "\n",
    "print('using device:', device)"
   ]
  },
  {
   "cell_type": "markdown",
   "metadata": {},
   "source": [
    "# Part II. Barebones PyTorch\n",
    "\n",
    "PyTorch ships with high-level APIs to help us define model architectures conveniently, which we will cover in Part II of this tutorial. In this section, we will start with the barebone PyTorch elements to understand the autograd engine better. After this exercise, you will come to appreciate the high-level model API more.\n",
    "\n",
    "We will start with a simple fully-connected ReLU network with two hidden layers and no biases for CIFAR classification. \n",
    "This implementation computes the forward pass using operations on PyTorch Tensors, and uses PyTorch autograd to compute gradients. It is important that you understand every line, because you will write a harder version after the example.\n",
    "\n",
    "When we create a PyTorch Tensor with `requires_grad=True`, then operations involving that Tensor will not just compute values; they will also build up a computational graph in the background, allowing us to easily backpropagate through the graph to compute gradients of some Tensors with respect to a downstream loss. Concretely if x is a Tensor with `x.requires_grad == True` then after backpropagation `x.grad` will be another Tensor holding the gradient of x with respect to the scalar loss at the end."
   ]
  },
  {
   "cell_type": "code",
   "execution_count": 4,
   "metadata": {
    "tags": [
     "pdf-ignore-input"
    ]
   },
   "outputs": [],
   "source": [
    "import torch.nn.functional as F  # useful stateless functions\n",
    "\n",
    "def flatten(x):\n",
    "    N = x.shape[0] # read in N, C, H, W\n",
    "    return x.view(N, -1)  # \"flatten\" the C * H * W values into a single vector per image\n",
    "\n",
    "def test_flatten():\n",
    "    x = torch.arange(12).view(2, 1, 3, 2)\n",
    "    print('Before flattening: ', x)\n",
    "    print('After flattening: ', flatten(x))\n",
    "\n",
    "# test_flatten()\n",
    "# class Flatten(nn.Module):\n",
    "#     def forward(self, x):\n",
    "#         return flatten(x)"
   ]
  },
  {
   "cell_type": "markdown",
   "metadata": {},
   "source": [
    "### Module API: Three-Layer ConvNet\n",
    "It's your turn to implement a 3-layer ConvNet followed by a fully connected layer. The network architecture should be the same as in Part II:\n",
    "\n",
    "1. Convolutional layer with `channel_1` 5x5 filters with zero-padding of 2\n",
    "2. ReLU\n",
    "3. Convolutional layer with `channel_2` 3x3 filters with zero-padding of 1\n",
    "4. ReLU\n",
    "5. Fully-connected layer to `num_classes` classes\n",
    "\n",
    "You should initialize the weight matrices of the model using the Kaiming normal initialization method.\n",
    "\n",
    "**HINT**: http://pytorch.org/docs/stable/nn.html#conv2d\n",
    "\n",
    "After you implement the three-layer ConvNet, the `test_ThreeLayerConvNet` function will run your implementation; it should print `(64, 10)` for the shape of the output scores."
   ]
  },
  {
   "cell_type": "code",
   "execution_count": 5,
   "metadata": {
    "id": "module_output_shape"
   },
   "outputs": [
    {
     "name": "stdout",
     "output_type": "stream",
     "text": [
      "torch.Size([64, 10])\n"
     ]
    }
   ],
   "source": [
    "class ThreeLayerConvNet(nn.Module):\n",
    "    def __init__(self, in_channel, CNN_net_width, CNN_out_width, dropout, hidden_1, num_classes, CNN_depth):\n",
    "        super().__init__()\n",
    "        \n",
    "        self.CNN_depth = CNN_depth\n",
    "        \n",
    "        self.conv1 = nn.Conv2d(in_channel, CNN_net_width, 5, padding=0) # H*W = 28*28\n",
    "        nn.init.kaiming_normal_(self.conv1.weight)\n",
    "        self.conv2 = nn.Conv2d(CNN_net_width, CNN_net_width, 3, padding=1)\n",
    "        nn.init.kaiming_normal_(self.conv2.weight)\n",
    "        self.conv3 = nn.Conv2d(CNN_net_width, CNN_out_width, 3, padding=1)\n",
    "        nn.init.kaiming_normal_(self.conv3.weight)\n",
    "        \n",
    "        self.batchNorm = nn.BatchNorm2d(CNN_net_width)\n",
    "        self.maxpool2d = nn.MaxPool2d(kernel_size=2)\n",
    "        self.dropout = nn.Dropout2d(p=dropout)\n",
    "        self.relu = nn.ReLU(inplace=True)\n",
    "        \n",
    "        self.fc1 = nn.Linear(CNN_out_width*14*14, hidden_1)\n",
    "        nn.init.kaiming_normal_(self.fc1.weight)\n",
    "        self.fc2 = nn.Linear(hidden_1, num_classes)\n",
    "        nn.init.kaiming_normal_(self.fc2.weight)\n",
    "\n",
    "    def forward(self, x):\n",
    "        scores = None\n",
    "        \n",
    "        c_mid = {}\n",
    "        c_mid[0] = self.maxpool2d(self.relu(self.conv1(x))) # H*W = 14*14\n",
    "        \n",
    "        \n",
    "        for i in range(self.CNN_depth):\n",
    "            c_mid[i+1] = self.relu(self.conv2(self.batchNorm(self.dropout(c_mid[i]))))\n",
    "            \n",
    "        c_out = self.relu(self.conv3(self.batchNorm(self.dropout(c_mid[self.CNN_depth]))))\n",
    "        scores = self.fc2(self.relu(self.fc1(flatten(c_out))))\n",
    "\n",
    "        return scores\n",
    "\n",
    "\n",
    "def test_ThreeLayerConvNet():\n",
    "    x = torch.zeros((64, 3, 32, 32), dtype=dtype)  # minibatch size 64, image size [3, 32, 32]\n",
    "    model = ThreeLayerConvNet(in_channel=3, CNN_net_width=32, CNN_out_width = 20, dropout=0.2, hidden_1 = 50, num_classes=10, CNN_depth = 2)\n",
    "    scores = model(x)\n",
    "    print(scores.size())  # you should see [64, 10]\n",
    "            \n",
    "test_ThreeLayerConvNet()"
   ]
  },
  {
   "cell_type": "markdown",
   "metadata": {},
   "source": [
    "### Module API: Check Accuracy\n",
    "Given the validation or test set, we can check the classification accuracy of a neural network. \n",
    "\n",
    "This version is slightly different from the one in part II. You don't manually pass in the parameters anymore."
   ]
  },
  {
   "cell_type": "code",
   "execution_count": 6,
   "metadata": {},
   "outputs": [],
   "source": [
    "def check_accuracy_part34(loader, model):\n",
    "#     if loader.dataset.train:\n",
    "#         print('Checking accuracy on validation set')\n",
    "#     else:\n",
    "#         print('Checking accuracy on test set')\n",
    "    num_correct = 0\n",
    "    num_samples = 0\n",
    "    model.eval()  # set model to evaluation mode\n",
    "    with torch.no_grad():\n",
    "        for x, y in loader:\n",
    "            x = x.to(device=device, dtype=dtype)  # move to device, e.g. GPU\n",
    "            y = y.to(device=device, dtype=torch.long)\n",
    "            scores = model(x)\n",
    "            _, preds = scores.max(1)\n",
    "            num_correct += (preds == y).sum()\n",
    "            num_samples += preds.size(0)\n",
    "        acc = float(num_correct) / num_samples\n",
    "#         print('Got %d / %d correct (%.2f)' % (num_correct, num_samples, 100 * acc))\n",
    "        return acc"
   ]
  },
  {
   "cell_type": "markdown",
   "metadata": {},
   "source": [
    "### Module API: Training Loop\n",
    "We also use a slightly different training loop. Rather than updating the values of the weights ourselves, we use an Optimizer object from the `torch.optim` package, which abstract the notion of an optimization algorithm and provides implementations of most of the algorithms commonly used to optimize neural networks."
   ]
  },
  {
   "cell_type": "code",
   "execution_count": 7,
   "metadata": {},
   "outputs": [],
   "source": [
    "def showAcc(loss_his, train_his, vali_his):\n",
    "    plt.subplot(2, 1, 1)\n",
    "    plt.plot(loss_his, 'o')\n",
    "    plt.xlabel('iteration')\n",
    "    plt.ylabel('loss')\n",
    "\n",
    "    plt.subplot(2, 1, 2)\n",
    "    plt.plot(train_his, '-o')\n",
    "    plt.plot(vali_his, '-o')\n",
    "    plt.legend(['train', 'val'], loc='upper left')\n",
    "    plt.xlabel('epoch')\n",
    "    plt.ylabel('accuracy')\n",
    "    plt.show()\n",
    "    \n",
    "def train_part34(model, optimizer, epochs=1, reg = 0.01, verbose = True):\n",
    "    \"\"\"\n",
    "    Train a model on CIFAR-10 using the PyTorch Module API.\n",
    "    \n",
    "    Inputs:\n",
    "    - model: A PyTorch Module giving the model to train.\n",
    "    - optimizer: An Optimizer object we will use to train the model\n",
    "    - epochs: (Optional) A Python integer giving the number of epochs to train for\n",
    "    \n",
    "    Returns: Nothing, but prints model accuracies during training.\n",
    "    \"\"\"\n",
    "    loss_his, train_his, vali_his = [], [], []\n",
    "    model = model.to(device=device)  # move the model parameters to CPU/GPU\n",
    "    start_flag = True\n",
    "    iteration = 0\n",
    "    epo_it = {}\n",
    "    epo_W1 = {}\n",
    "    for e in range(epochs):\n",
    "        for t, (x, y) in enumerate(loader_train):\n",
    "            iteration += 1\n",
    "            model.train()  # put model to training mode\n",
    "            x = x.to(device=device, dtype=dtype)  # move to device, e.g. GPU\n",
    "            y = y.to(device=device, dtype=torch.long)\n",
    "\n",
    "            scores = model(x)\n",
    "            loss = F.cross_entropy(scores, y)\n",
    "            reg_loss = 0\n",
    "            for name,parameters in model.named_parameters():\n",
    "                reg_loss += torch.norm(parameters)\n",
    "            loss += reg * reg_loss\n",
    "\n",
    "            loss_his.append(loss)\n",
    "            optimizer.zero_grad()\n",
    "            loss.backward()\n",
    "            optimizer.step()\n",
    "            if start_flag:\n",
    "                start_flag = False\n",
    "                vali_acc = check_accuracy_part34(loader_val, model)\n",
    "                train_acc = check_accuracy_part34(loader_train, model)\n",
    "                train_his.append(train_acc)\n",
    "                vali_his.append(vali_acc)\n",
    "                if verbose: print(f'Begin training, vali_acc = {vali_acc}, train_acc = {train_acc}')\n",
    "         \n",
    "        W1 = model.conv1.weight.cpu().detach().numpy().transpose(0, 2, 3, 1)\n",
    "        epo_it[e] = iteration\n",
    "        epo_W1[e] = W1\n",
    "        vali_acc = check_accuracy_part34(loader_val, model)\n",
    "        train_acc = check_accuracy_part34(loader_train, model)\n",
    "        train_his.append(train_acc)\n",
    "        vali_his.append(vali_acc)\n",
    "        if verbose: print(f'After epoch {e}, vali_acc = {vali_acc}, train_acc = {train_acc}')\n",
    "    his = {}\n",
    "    his['vali_his'] = vali_his\n",
    "    his['train_his'] = train_his\n",
    "    his['loss_his'] = loss_his\n",
    "    return his, epo_it, epo_W1"
   ]
  },
  {
   "cell_type": "markdown",
   "metadata": {},
   "source": [
    "### Module API: Train a Three-Layer ConvNet\n",
    "You should now use the Module API to train a three-layer ConvNet on CIFAR. This should look very similar to training the two-layer network! You don't need to tune any hyperparameters, but you should achieve above above 45% after training for one epoch.\n",
    "\n",
    "You should train the model using stochastic gradient descent without momentum."
   ]
  },
  {
   "cell_type": "code",
   "execution_count": 8,
   "metadata": {
    "id": "module_accuracy"
   },
   "outputs": [
    {
     "name": "stdout",
     "output_type": "stream",
     "text": [
      "Begin training, vali_acc = 0.087, train_acc = 0.095\n",
      "After epoch 0, vali_acc = 0.522, train_acc = 0.5172857142857142\n",
      "After epoch 1, vali_acc = 0.628, train_acc = 0.6128163265306122\n",
      "After epoch 2, vali_acc = 0.615, train_acc = 0.6265510204081632\n",
      "After epoch 3, vali_acc = 0.617, train_acc = 0.6327959183673469\n",
      "After epoch 4, vali_acc = 0.615, train_acc = 0.6376734693877552\n",
      "After epoch 5, vali_acc = 0.638, train_acc = 0.6449183673469387\n",
      "After epoch 6, vali_acc = 0.639, train_acc = 0.6408775510204081\n",
      "After epoch 7, vali_acc = 0.611, train_acc = 0.6350204081632653\n",
      "Final ACC = 0.6102\n"
     ]
    }
   ],
   "source": [
    "learning_rate = 1e-3\n",
    "CNN_mid_width=64\n",
    "CNN_out_width = 20\n",
    "dropout=0.2\n",
    "hidden_fc = 50\n",
    "epochs=8\n",
    "reg = 0.02\n",
    "CNN_depth = 1\n",
    "\n",
    "model = None\n",
    "optimizer = None\n",
    "################################################################################\n",
    "# TODO: Instantiate your ThreeLayerConvNet model and a corresponding optimizer #\n",
    "################################################################################\n",
    "# *****START OF YOUR CODE (DO NOT DELETE/MODIFY THIS LINE)*****\n",
    "\n",
    "model =  ThreeLayerConvNet(in_channel=3, CNN_net_width=CNN_mid_width, CNN_out_width = CNN_out_width, \n",
    "                           dropout=dropout, hidden_1 = hidden_fc, num_classes=10, CNN_depth = CNN_depth)\n",
    "optimizer = optim.Adam(model.parameters(), lr=learning_rate)\n",
    "\n",
    "# *****END OF YOUR CODE (DO NOT DELETE/MODIFY THIS LINE)*****\n",
    "################################################################################\n",
    "#                                 END OF YOUR CODE                             \n",
    "################################################################################\n",
    "\n",
    "his, epo_it, epo_W1 = train_part34(model, optimizer, epochs=epochs, reg = reg, verbose = True)\n",
    "test_vali_acc = check_accuracy_part34(loader_test, model)\n",
    "print(f'Final ACC = {test_vali_acc}')"
   ]
  },
  {
   "cell_type": "code",
   "execution_count": 9,
   "metadata": {},
   "outputs": [
    {
     "data": {
      "image/png": "[encoded data removed]",
      "text/plain": [
       "<Figure size 720x576 with 2 Axes>"
      ]
     },
     "metadata": {
      "needs_background": "light"
     },
     "output_type": "display_data"
    }
   ],
   "source": [
    "vali_his = his['vali_his'] \n",
    "train_his = his['train_his'] \n",
    "loss_his = his['loss_his'] \n",
    "showAcc(loss_his, train_his, vali_his)"
   ]
  },
  {
   "cell_type": "code",
   "execution_count": 10,
   "metadata": {},
   "outputs": [],
   "source": [
    "# model.conv1.weight.shape\n",
    "# for name,parameters in model.named_parameters():\n",
    "#     print(name,':',parameters.size())"
   ]
  },
  {
   "cell_type": "code",
   "execution_count": 20,
   "metadata": {},
   "outputs": [
    {
     "data": {
      "image/png": "[encoded data removed]",
      "text/plain": [
       "<Figure size 360x360 with 1 Axes>"
      ]
     },
     "metadata": {
      "needs_background": "light"
     },
     "output_type": "display_data"
    }
   ],
   "source": [
    "from cs231n.vis_utils import visualize_grid\n",
    "\n",
    "W1 = epo_W1[7]\n",
    "\n",
    "grid = visualize_grid(W1)\n",
    "plt.imshow(grid.astype('uint8'))\n",
    "plt.axis('off')\n",
    "plt.gcf().set_size_inches(5, 5)\n",
    "plt.show()"
   ]
  },
  {
   "cell_type": "markdown",
   "metadata": {},
   "source": [
    "## Test set -- run this only once\n",
    "\n",
    "Now that we've gotten a result we're happy with, we test our final model on the test set (which you should store in best_model). Think about how this compares to your validation set accuracy."
   ]
  },
  {
   "cell_type": "code",
   "execution_count": null,
   "metadata": {},
   "outputs": [],
   "source": [
    "best_model = model\n",
    "check_accuracy_part34(loader_test, best_model)"
   ]
  },
  {
   "cell_type": "markdown",
   "metadata": {},
   "source": [
    "## 训练并存储数据"
   ]
  },
  {
   "cell_type": "code",
   "execution_count": 31,
   "metadata": {},
   "outputs": [],
   "source": [
    "import pickle\n",
    "import os.path\n",
    "\n",
    "def savedb(obj,filename):\n",
    "    with open(filename,'wb') as file:\n",
    "        pickle.dump(obj,file)\n",
    "    \n",
    "def loaddb(filename):\n",
    "    with open(filename,'rb') as file:\n",
    "        obj = pickle.load(file)\n",
    "        return obj\n",
    "    \n",
    "# his, epo_it, epo_W1\n",
    "    \n",
    "def pickle_exist(CNN_mid_width, CNN_d, drop, reg, lr, CNN_out_width, h_fc, epoch):\n",
    "    filename = f'pickle/{CNN_mid_width}-{CNN_d}-{drop}-{reg}-{lr}-{CNN_out_width}-{h_fc}-{epoch}.pickle'\n",
    "    if os.path.isfile(filename):\n",
    "        return True\n",
    "    return False\n",
    "\n",
    "def save_pickle(CNN_mid_width, CNN_d, drop, reg, lr, CNN_out_width, h_fc, epoch, val_acc, his, epo_it, epo_W1, dtype = np.half):\n",
    "#     W1 = dtype(W1)\n",
    "    for key in epo_W1.keys():\n",
    "        epo_W1[key] = dtype(epo_W1[key])\n",
    "    for key in his.keys():\n",
    "        his[key] = dtype(his[key])\n",
    "    obj = (CNN_mid_width, CNN_d, drop, reg, lr, CNN_out_width, h_fc, epoch, val_acc, his, epo_it, epo_W1)\n",
    "    filename = f'pickle/{CNN_mid_width}-{CNN_d}-{drop}-{reg}-{lr}-{CNN_out_width}-{h_fc}-{epoch}.pickle'\n",
    "    savedb(obj,filename)"
   ]
  },
  {
   "cell_type": "code",
   "execution_count": 40,
   "metadata": {},
   "outputs": [
    {
     "name": "stdout",
     "output_type": "stream",
     "text": [
      "..................[19/72]CNN_m: 32, CNN_d: 6, drop: 0, reg:0.03, val_acc: 0.5353\n",
      "[20/72]CNN_m: 32, CNN_d: 6, drop: 0.2, reg:0.03, val_acc: 0.1\n",
      "[21/72]CNN_m: 32, CNN_d: 6, drop: 0.5, reg:0.03, val_acc: 0.2868\n",
      "[22/72]CNN_m: 32, CNN_d: 6, drop: 0, reg:0.02, val_acc: 0.5042\n",
      "[23/72]CNN_m: 32, CNN_d: 6, drop: 0.2, reg:0.02, val_acc: 0.4545\n",
      "[24/72]CNN_m: 32, CNN_d: 6, drop: 0.5, reg:0.02, val_acc: 0.3929\n",
      "..................[43/72]CNN_m: 64, CNN_d: 6, drop: 0, reg:0.03, val_acc: 0.4116\n",
      "[44/72]CNN_m: 64, CNN_d: 6, drop: 0.2, reg:0.03, val_acc: 0.3989\n",
      "[45/72]CNN_m: 64, CNN_d: 6, drop: 0.5, reg:0.03, val_acc: 0.4158\n",
      "[46/72]CNN_m: 64, CNN_d: 6, drop: 0, reg:0.02, val_acc: 0.5223\n",
      "[47/72]CNN_m: 64, CNN_d: 6, drop: 0.2, reg:0.02, val_acc: 0.4404\n",
      "[48/72]CNN_m: 64, CNN_d: 6, drop: 0.5, reg:0.02, val_acc: 0.3921\n",
      "..................[67/72]CNN_m: 128, CNN_d: 6, drop: 0, reg:0.03, val_acc: 0.5581\n",
      "[68/72]CNN_m: 128, CNN_d: 6, drop: 0.2, reg:0.03, val_acc: 0.4066\n",
      "[69/72]CNN_m: 128, CNN_d: 6, drop: 0.5, reg:0.03, val_acc: 0.3858\n",
      "[70/72]CNN_m: 128, CNN_d: 6, drop: 0, reg:0.02, val_acc: 0.463\n",
      "[71/72]CNN_m: 128, CNN_d: 6, drop: 0.2, reg:0.02, val_acc: 0.5136\n",
      "[72/72]CNN_m: 128, CNN_d: 6, drop: 0.5, reg:0.02, val_acc: 0.4438\n"
     ]
    }
   ],
   "source": [
    "learning_rate = 2e-3\n",
    "CNN_mid_width=[32, 64, 128]\n",
    "# CNN_mid_width=[32]\n",
    "CNN_out_width = 20\n",
    "dropout = [0, 0.2, 0.5]\n",
    "# dropout = [0.2]\n",
    "hidden_fc = 50\n",
    "epochs=8\n",
    "regularization = [0.03, 0.02]\n",
    "CNN_depth = [0, 2, 4, 6]\n",
    "# CNN_depth = [0]\n",
    "\n",
    "overall = len(CNN_mid_width) * len(dropout) * len(regularization) * len(CNN_depth)\n",
    "\n",
    "\n",
    "def testParam(CNN_m, CNN_d, drop, reg):\n",
    "    model =  ThreeLayerConvNet(in_channel=3, CNN_net_width=CNN_m, CNN_out_width = CNN_out_width, \n",
    "                           dropout=drop, hidden_1 = hidden_fc, num_classes=10, CNN_depth = CNN_d)\n",
    "    optimizer = optim.Adam(model.parameters(), lr=learning_rate)\n",
    "    his, epo_it, epo_W1 = train_part34(model, optimizer, epochs=epochs, reg = reg, verbose = False)\n",
    "    test_vali_acc = check_accuracy_part34(loader_test, model)\n",
    "    print(f'CNN_m: {CNN_m}, CNN_d: {CNN_d}, drop: {drop}, reg:{reg}, val_acc: {test_vali_acc}')\n",
    "    return test_vali_acc, his, epo_it, epo_W1\n",
    "\n",
    "i = 0\n",
    "current = 0\n",
    "lr = learning_rate\n",
    "h_fc = hidden_fc\n",
    "for CNN_m in CNN_mid_width:\n",
    "    for CNN_d in CNN_depth:\n",
    "        for reg in regularization:\n",
    "            for drop in dropout:\n",
    "                current += 1\n",
    "                if pickle_exist(CNN_m, CNN_d, drop, reg, lr, CNN_out_width, h_fc, epochs):\n",
    "                    print('.',end='')\n",
    "                    if i%100 == 99:\n",
    "                        print()\n",
    "                    i+=1\n",
    "                    continue\n",
    "                print(f'[{current}/{overall}]', end = '')\n",
    "                val_acc, his, epo_it, epo_W1 = testParam(CNN_m, CNN_d, drop, reg)\n",
    "                save_pickle(CNN_m, CNN_d, drop, reg, lr, CNN_out_width, h_fc, epochs, val_acc, his, epo_it, epo_W1, dtype = np.half)"
   ]
  },
  {
   "cell_type": "code",
   "execution_count": null,
   "metadata": {},
   "outputs": [],
   "source": []
  }
 ],
 "metadata": {
  "celltoolbar": "Edit Metadata",
  "kernelspec": {
   "display_name": "Python 3",
   "language": "python",
   "name": "python3"
  },
  "language_info": {
   "codemirror_mode": {
    "name": "ipython",
    "version": 3
   },
   "file_extension": ".py",
   "mimetype": "text/x-python",
   "name": "python",
   "nbconvert_exporter": "python",
   "pygments_lexer": "ipython3",
   "version": "3.6.9"
  },
  "toc": {
   "nav_menu": {},
   "number_sections": true,
   "sideBar": true,
   "skip_h1_title": false,
   "toc_cell": false,
   "toc_position": {},
   "toc_section_display": "block",
   "toc_window_display": false
  },
  "varInspector": {
   "cols": {
    "lenName": 16,
    "lenType": 16,
    "lenVar": 40
   },
   "kernels_config": {
    "python": {
     "delete_cmd_postfix": "",
     "delete_cmd_prefix": "del ",
     "library": "var_list.py",
     "varRefreshCmd": "print(var_dic_list())"
    },
    "r": {
     "delete_cmd_postfix": ") ",
     "delete_cmd_prefix": "rm(",
     "library": "var_list.r",
     "varRefreshCmd": "cat(var_dic_list()) "
    }
   },
   "types_to_exclude": [
    "module",
    "function",
    "builtin_function_or_method",
    "instance",
    "_Feature"
   ],
   "window_display": false
  }
 },
 "nbformat": 4,
 "nbformat_minor": 4
}
