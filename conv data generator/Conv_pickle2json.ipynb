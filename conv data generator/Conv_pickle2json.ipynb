{
 "cells": [
  {
   "cell_type": "code",
   "execution_count": 1,
   "metadata": {},
   "outputs": [],
   "source": [
    "import numpy as np\n",
    "import matplotlib.pyplot as plt\n",
    "%load_ext autoreload\n",
    "%autoreload 2"
   ]
  },
  {
   "cell_type": "code",
   "execution_count": 2,
   "metadata": {},
   "outputs": [],
   "source": [
    "from data_helper import *"
   ]
  },
  {
   "cell_type": "code",
   "execution_count": 40,
   "metadata": {},
   "outputs": [],
   "source": [
    "def gradient2Image(epo_W1):\n",
    "    for key in epo_W1.keys():\n",
    "        W1 = epo_W1[key]\n",
    "        for i in range(len(W1)):\n",
    "            G = W1[i]\n",
    "            maxg = G.max()\n",
    "            ming = G.min()\n",
    "            if np.isinf(ming) or np.isinf(maxg):\n",
    "                G = np.ones(G.shape)*154\n",
    "            else:\n",
    "                dividor = (maxg - ming) if (maxg - ming) > 0 else 0.001\n",
    "                G = (G - ming)/dividor*255.0\n",
    "            W1[i] = G\n",
    "        epo_W1[key] = (W1).astype(np.int).tolist()\n",
    "    return epo_W1\n",
    "\n",
    "def float_list2int(his):\n",
    "    for key in his.keys():\n",
    "        ll = his[key]\n",
    "        ll = ll[np.logical_not(np.isnan(ll))]\n",
    "        kk = ll[np.logical_not(np.isinf(ll))]\n",
    "        kk = (kk*1e6).astype(np.int)\n",
    "        his[key] = kk.tolist()\n",
    "    return his"
   ]
  },
  {
   "cell_type": "code",
   "execution_count": 47,
   "metadata": {},
   "outputs": [],
   "source": [
    "import json\n",
    "json.encoder.FLOAT_REPR =lambda x:format(x,'.3f')\n",
    "    \n",
    "class MyEncoder(json.JSONEncoder):\n",
    "    def encode(self, obj):\n",
    "        if isinstance(obj, float):\n",
    "            return format(obj, '.2f')\n",
    "        return json.JSONEncoder.encode(self, obj)\n",
    "    \n",
    "def save2json(CNN_m, CNN_d, drop, reg, lr, CNN_out_width, h_fc, epoch, val_acc, his, epo_it, epo_W1):\n",
    "    data = {\n",
    "        \"CNN_mid_width\": CNN_m,\n",
    "        \"CNN_d\": CNN_d,\n",
    "        \"drop\": drop,\n",
    "        \"reg\": reg,\n",
    "        \"lr\": lr,\n",
    "        \"CNN_out_width\": CNN_out_width,\n",
    "        \"h_fc\": h_fc,\n",
    "        \"epoch\": epoch,\n",
    "        \"val_acc\": val_acc,\n",
    "        \"his\": float_list2int(his),\n",
    "        \"epo_it\": epo_it,\n",
    "        \"epo_W1\": gradient2Image(epo_W1),\n",
    "    }\n",
    "    \n",
    "    \n",
    "#     plt.imshow(gradient2Image(epo_W1)[7][1])\n",
    "#     plt.axis('off')\n",
    "#     plt.gcf().set_size_inches(5, 5)\n",
    "#     plt.show()\n",
    "#     if json_exist(hs, bs, lr, reg, num_epoch):\n",
    "#         return\n",
    "    with open( f'convJson/{CNN_mid_width}-{CNN_d}-{drop}-{reg}-{lr}-{CNN_out_width}-{h_fc}-{epoch}.json', 'w') as f:\n",
    "#         json.dump(data, f, indent=1)\n",
    "        json.dump(data, f,separators=(',', ':'))\n",
    "\n",
    "CNN_mid_width, CNN_d, drop, reg, lr, CNN_out_width, h_fc, epoch, val_acc, his, epo_it, epo_W1 = \\\n",
    "        get_pickle(128, 0, 0.2, 0.03, 0.002, 20, 50, 8)\n",
    "\n",
    "save2json(CNN_mid_width, CNN_d, drop, reg, lr, CNN_out_width, h_fc, epoch, val_acc, his, epo_it, epo_W1)"
   ]
  },
  {
   "cell_type": "code",
   "execution_count": 48,
   "metadata": {},
   "outputs": [
    {
     "name": "stdout",
     "output_type": "stream",
     "text": [
      "........................................................................"
     ]
    }
   ],
   "source": [
    "learning_rate = 2e-3\n",
    "CNN_mid_width=[32, 64, 128]\n",
    "# CNN_mid_width=[32]\n",
    "CNN_out_width = 20\n",
    "dropout = [0, 0.2, 0.5]\n",
    "# dropout = [0.2]\n",
    "hidden_fc = 50\n",
    "epochs=8\n",
    "regularization = [0.03, 0.02]\n",
    "CNN_depth = [0, 2, 4, 6]\n",
    "\n",
    "lr = learning_rate\n",
    "h_fc = hidden_fc\n",
    "for CNN_m in CNN_mid_width:\n",
    "    for CNN_d in CNN_depth:\n",
    "        for reg in regularization:\n",
    "            for drop in dropout:\n",
    "                if pickle_exist(CNN_m, CNN_d, drop, reg, lr, CNN_out_width, h_fc, epochs):\n",
    "                    print('.',end='')\n",
    "                    CNN_mid_width, CNN_d, drop, reg, lr, CNN_out_width, h_fc, epoch, val_acc, his, epo_it, epo_W1 = \\\n",
    "                        get_pickle(CNN_m, CNN_d, drop, reg, lr, CNN_out_width, h_fc, epochs)\n",
    "                    save2json(CNN_mid_width, CNN_d, drop, reg, lr, CNN_out_width, h_fc, epoch, val_acc, his, epo_it, epo_W1)"
   ]
  },
  {
   "cell_type": "code",
   "execution_count": null,
   "metadata": {},
   "outputs": [],
   "source": []
  }
 ],
 "metadata": {
  "kernelspec": {
   "display_name": "Python 3",
   "language": "python",
   "name": "python3"
  },
  "language_info": {
   "codemirror_mode": {
    "name": "ipython",
    "version": 3
   },
   "file_extension": ".py",
   "mimetype": "text/x-python",
   "name": "python",
   "nbconvert_exporter": "python",
   "pygments_lexer": "ipython3",
   "version": "3.6.9"
  }
 },
 "nbformat": 4,
 "nbformat_minor": 4
}
